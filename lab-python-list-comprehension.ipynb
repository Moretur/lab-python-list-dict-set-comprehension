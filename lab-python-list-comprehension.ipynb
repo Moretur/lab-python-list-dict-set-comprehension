{
 "cells": [
  {
   "cell_type": "markdown",
   "id": "25d7736c-ba17-4aff-b6bb-66eba20fbf4e",
   "metadata": {},
   "source": [
    "# Lab | List, Dict and Set Comprehension"
   ]
  },
  {
   "cell_type": "markdown",
   "id": "7dd3cbde-675a-4b81-92c3-f728846dbe06",
   "metadata": {},
   "source": [
    "## Exercise: Managing Customer Orders Optimized with Comprehension"
   ]
  },
  {
   "cell_type": "markdown",
   "id": "5d500160-2fb7-4777-b5e4-09d45ebaf328",
   "metadata": {},
   "source": [
    "In the previous exercise, you developed a program to manage customer orders and inventory. Now, let's take it a step further and incorporate comprehension into your code.\n",
    "\n",
    "Follow the steps below to complete the exercise:\n",
    "\n",
    "1. Review your code from the previous exercise and identify areas where you can apply comprehension to simplify and streamline your code. \n",
    "\n",
    "    - *Hint: Apply it to initialize inventory, updating the inventory and printing the updated inventory.*\n",
    "    \n",
    "    - For example, in initializing the inventory, we could have:\n",
    "    \n",
    "        ```python\n",
    "        def initialize_inventory(products):\n",
    "            inventory = {product: int(input(f\"Enter the quantity of {product}s available: \")) for product in products}\n",
    "            return inventory\n",
    "\n",
    "        ```\n",
    "<br>\n",
    "    \n",
    "    \n",
    "2. Modify the function get_customer_orders so it prompts the user to enter the number of customer orders and gathers the product names using a loop and user input. Use comprehension.\n",
    "\n",
    "3. Add a new function to calculate the total price of the customer order. For each product in customer_orders, prompt the user to enter the price of that product. Use comprehension to calculate the total price. Note: assume that the user can only have 1 unit of each product.\n",
    "\n",
    "4. Modify the update_inventory function to remove the product from the inventory if its quantity becomes zero after fulfilling the customer orders. Use comprehension to filter out the products with a quantity of zero from the inventory.\n",
    "\n",
    "5. Print the total price of the customer order.\n",
    "\n",
    "Your code should produce output similar to the following:\n",
    "\n",
    "```python\n",
    "Enter the quantity of t-shirts available:  5\n",
    "Enter the quantity of mugs available:  4\n",
    "Enter the quantity of hats available:  3\n",
    "Enter the quantity of books available:  2\n",
    "Enter the quantity of keychains available:  1\n",
    "Enter the number of customer orders:  2\n",
    "Enter the name of a product that a customer wants to order:  hat\n",
    "Enter the name of a product that a customer wants to order:  keychain\n",
    "\n",
    "Order Statistics:\n",
    "Total Products Ordered: 2\n",
    "Percentage of Unique Products Ordered: 40.0\n",
    "\n",
    "Updated Inventory:\n",
    "t-shirt: 5\n",
    "mug: 4\n",
    "hat: 2\n",
    "book: 2\n",
    "Enter the price of keychain:  5\n",
    "Enter the price of hat:  10\n",
    "Total Price: 15.0\n",
    "\n",
    "```\n"
   ]
  },
  {
   "cell_type": "code",
   "execution_count": 33,
   "id": "9d9b9ae8",
   "metadata": {},
   "outputs": [],
   "source": [
    "# 1 - INICIAR INVENTARIO\n",
    "products = [\"t-shirt\", \"mug\", \"hat\", \"book\", \"keychain\"]\n",
    "\n",
    "def initialize_inventory(products):\n",
    "    inventario = {product:int(input(f\"Por favor, introduzca el número de {product}: \")) for product in products}\n",
    "    print(\"Productos disponibles:\", inventario)\n",
    "    return inventario"
   ]
  },
  {
   "cell_type": "code",
   "execution_count": 34,
   "id": "ae3f45c9",
   "metadata": {},
   "outputs": [
    {
     "name": "stdout",
     "output_type": "stream",
     "text": [
      "Productos disponibles: {'t-shirt': 10, 'mug': 20, 'hat': 30, 'book': 40, 'keychain': 50}\n"
     ]
    }
   ],
   "source": [
    "inventario = initialize_inventory(products)"
   ]
  },
  {
   "cell_type": "code",
   "execution_count": 37,
   "id": "2bf80e02",
   "metadata": {},
   "outputs": [],
   "source": [
    "# 2 - GET CUSTOMER ORDERS\n",
    "def get_customer_orders():\n",
    "    num_orders = int(input(\"¿Cuántos productos diferentes quiere comprar?: \"))\n",
    "    customer_orders = [input(\"Elija su producto: t-shirt, mug, hat, book o keychain.\") for _ in range(num_orders)]\n",
    "    print(\"Ha elegido:\", customer_orders)\n",
    "    return customer_orders"
   ]
  },
  {
   "cell_type": "code",
   "execution_count": 38,
   "id": "84862bd5",
   "metadata": {},
   "outputs": [
    {
     "name": "stdout",
     "output_type": "stream",
     "text": [
      "Ha elegido: ['t-shirt', 'hat', 'mug']\n"
     ]
    }
   ],
   "source": [
    "customer_orders=get_customer_orders()"
   ]
  },
  {
   "cell_type": "code",
   "execution_count": 90,
   "id": "2a0f838a",
   "metadata": {},
   "outputs": [],
   "source": [
    "# 3 - PRECIO TOTAL\n",
    "def total_price(customer_orders):\n",
    "    precios = {product: float(input(f\"Ingrese el precio de {product}: \")) for product in customer_orders}\n",
    "    total_price = sum(precios[product] for product in customer_orders)\n",
    "    return total_price"
   ]
  },
  {
   "cell_type": "code",
   "execution_count": 42,
   "id": "cf27e089",
   "metadata": {},
   "outputs": [
    {
     "name": "stdout",
     "output_type": "stream",
     "text": [
      "El precio de su pedido es: 22.5\n"
     ]
    }
   ],
   "source": [
    "precio_total=total_price(customer_orders)"
   ]
  },
  {
   "cell_type": "code",
   "execution_count": 104,
   "id": "d993270e",
   "metadata": {},
   "outputs": [],
   "source": [
    "#4 - INVENTARIO ACTUALIZADO\n",
    "def update_inventory(customer_orders, inventario):\n",
    "    inventario = {producto: (cantidad -1 if producto in customer_orders else cantidad) for producto, cantidad in inventario.items() }\n",
    "    inventario = {producto: cantidad for producto, cantidad in inventario.items() if cantidad > 0}\n",
    "\n",
    "    print(f\"Inventario actualizado: {inventario}\")\n",
    "    return inventario\n",
    "\n"
   ]
  },
  {
   "cell_type": "code",
   "execution_count": 76,
   "id": "1790ad3a",
   "metadata": {},
   "outputs": [
    {
     "name": "stdout",
     "output_type": "stream",
     "text": [
      "Inventario actualizado: {'t-shirt': 7, 'mug': 17, 'hat': 27, 'book': 39, 'keychain': 49}\n"
     ]
    }
   ],
   "source": [
    "inventario_actualizado = update_inventory(customer_orders, inventario)"
   ]
  },
  {
   "cell_type": "code",
   "execution_count": 105,
   "id": "412eeddd",
   "metadata": {},
   "outputs": [
    {
     "name": "stdout",
     "output_type": "stream",
     "text": [
      "Productos disponibles: {'t-shirt': 1, 'mug': 1, 'hat': 1, 'book': 1, 'keychain': 1}\n",
      "Ha elegido: ['mug', 'hat']\n",
      "Inventario actualizado: {'t-shirt': 1, 'book': 1, 'keychain': 1}\n",
      "El precio de su pedido es: 30.0\n"
     ]
    }
   ],
   "source": [
    "inventario = initialize_inventory(products)\n",
    "customer_orders=get_customer_orders()\n",
    "precio_total=total_price(customer_orders)\n",
    "inventario_actualizado = update_inventory(customer_orders, inventario)\n",
    "print(\"El precio de su pedido es:\", precio_total)\n"
   ]
  }
 ],
 "metadata": {
  "kernelspec": {
   "display_name": "base",
   "language": "python",
   "name": "python3"
  },
  "language_info": {
   "codemirror_mode": {
    "name": "ipython",
    "version": 3
   },
   "file_extension": ".py",
   "mimetype": "text/x-python",
   "name": "python",
   "nbconvert_exporter": "python",
   "pygments_lexer": "ipython3",
   "version": "3.13.5"
  }
 },
 "nbformat": 4,
 "nbformat_minor": 5
}
